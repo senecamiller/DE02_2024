{
  "nbformat": 4,
  "nbformat_minor": 0,
  "metadata": {
    "colab": {
      "provenance": [],
      "include_colab_link": true
    },
    "kernelspec": {
      "name": "python3",
      "display_name": "Python 3"
    },
    "language_info": {
      "name": "python"
    }
  },
  "cells": [
    {
      "cell_type": "markdown",
      "metadata": {
        "id": "view-in-github",
        "colab_type": "text"
      },
      "source": [
        "<a href=\"https://colab.research.google.com/github/senecamiller/DE02_2024/blob/main/selenium.ipynb\" target=\"_parent\"><img src=\"https://colab.research.google.com/assets/colab-badge.svg\" alt=\"Open In Colab\"/></a>"
      ]
    },
    {
      "cell_type": "code",
      "source": [
        "!apt-get update\n",
        "!apt install chromium-chromedriver\n",
        "!pip install selenium"
      ],
      "metadata": {
        "id": "CL9s2ncSrNjc"
      },
      "execution_count": null,
      "outputs": []
    },
    {
      "cell_type": "code",
      "source": [
        "from selenium import webdriver\n",
        "from selenium.webdriver.common.by import By\n",
        "\n",
        "chrome_options = webdriver.ChromeOptions()\n",
        "chrome_options.add_argument('--headless')\n",
        "chrome_options.add_argument('--no-sandbox')\n",
        "chrome_options.add_argument('--disable-dev-shm-usage')\n",
        "\n",
        "# Add custom headers\n",
        "chrome_options.add_argument(\"user-agent=Mozilla/5.0 (Windows NT 10.0; Win64; x64) AppleWebKit/537.36 (KHTML, like Gecko) Chrome/85.0.4183.83 Safari/537.36\")\n",
        "chrome_options.add_argument(\"accept=text/html,application/xhtml+xml,application/xml;q=0.9,image/avif,image/webp,*/*;q=0.8\")\n",
        "chrome_options.add_argument(\"accept-encoding=gzip, deflate, br\")\n",
        "chrome_options.add_argument(\"accept-language=en-US,en;q=0.9\")\n",
        "chrome_options.add_argument(\"referer=https://www.google.com/\")\n",
        "chrome_options.add_argument(\"sec-ch-ua-platform=Windows\")\n",
        "chrome_options.add_argument(\"sec-fetch-dest=document\")\n",
        "chrome_options.add_argument(\"sec-fetch-mode=navigate\")\n",
        "chrome_options.add_argument(\"sec-fetch-site=same-origin\")\n",
        "chrome_options.add_argument(\"sec-fetch-user=?1\")\n",
        "chrome_options.add_argument(\"upgrade-insecure-requests=1\")\n",
        "\n",
        "driver = webdriver.Chrome(options=chrome_options)\n"
      ],
      "metadata": {
        "id": "nf-J9BJaqCal"
      },
      "execution_count": 2,
      "outputs": []
    },
    {
      "cell_type": "code",
      "source": [
        "driver.get('https://www.geekwire.com')\n",
        "print(driver.title)"
      ],
      "metadata": {
        "colab": {
          "base_uri": "https://localhost:8080/"
        },
        "id": "OykGzzG4meLr",
        "outputId": "39a9171e-237e-42d6-816e-a01ca641a841"
      },
      "execution_count": 3,
      "outputs": [
        {
          "output_type": "stream",
          "name": "stdout",
          "text": [
            "GeekWire – Breaking News in Technology & Business\n"
          ]
        }
      ]
    },
    {
      "cell_type": "code",
      "source": [
        "driver.find_element(By.CLASS_NAME, \"entry-title\").text"
      ],
      "metadata": {
        "colab": {
          "base_uri": "https://localhost:8080/",
          "height": 35
        },
        "id": "SmfhMelwL3kF",
        "outputId": "8543888d-7421-4931-ba82-935e639dc41f"
      },
      "execution_count": 4,
      "outputs": [
        {
          "output_type": "execute_result",
          "data": {
            "text/plain": [
              "'Vacasa founder raises $10.1M for new startup that targets vacation rental property owners'"
            ],
            "application/vnd.google.colaboratory.intrinsic+json": {
              "type": "string"
            }
          },
          "metadata": {},
          "execution_count": 4
        }
      ]
    },
    {
      "cell_type": "code",
      "source": [
        "[x.text for x in driver.find_elements(By.CLASS_NAME, \"entry-title\")]"
      ],
      "metadata": {
        "colab": {
          "base_uri": "https://localhost:8080/"
        },
        "id": "LrZIEJnxLHlF",
        "outputId": "5d4a3acf-44ee-486b-e840-3657b98a7352"
      },
      "execution_count": 5,
      "outputs": [
        {
          "output_type": "execute_result",
          "data": {
            "text/plain": [
              "['Vacasa founder raises $10.1M for new startup that targets vacation rental property owners',\n",
              " 'Industrious to open new co-working space in Seattle near tech-heavy South Lake Union',\n",
              " 'Partnering for Health: Regence BlueShield and ALLtech’s Impact on Washington’s Tech Industry',\n",
              " 'Microsoft shares new data center design featuring a closed-loop water system for cooling',\n",
              " 'Uncommon Thinkers: Hanna Hajishirzi’s open approach to AI challenges the industry’s norms',\n",
              " 'Hidden AI revolution: Why leaders must address covert adoption of new tech',\n",
              " 'Week in Review: Most popular stories on GeekWire for the week of Dec. 1, 2024',\n",
              " 'GeekWire Podcast: Amazon Nova, the future of AI, and more from the AWS re:Invent show floor',\n",
              " 'Seattle-area fintech startup Finagraph merges with LeaseCrunch',\n",
              " 'How do you tame AI? Scientist sees a need for regulating bots like drugs or airplanes',\n",
              " 'An ethicist’s take: Is it OK to lie to an AI chatbot during a job interview?',\n",
              " 'AI overwhelmingly prefers white and male job candidates in new test of resume-screening bias',\n",
              " 'Potato’s AI research assistant digs through publications for science experiment inspiration',\n",
              " 'Ask the Expert: What are my career options at a slow-growing software-as-a-service company?',\n",
              " 'Unknown system outage impacts vehicle licensing offices across Washington state',\n",
              " 'Unknown system outage impacts vehicle licensing offices across Washington state',\n",
              " '‘Chamber of Connection’ launches in Seattle to help tech transplants and others adjust to their new city',\n",
              " 'Seattle lawmakers deny capital gains tax, broaden use of payroll tax revenue from big businesses',\n",
              " 'Seattle mayor, who sits on a federal AI panel, says he’ll seek ways to work with Trump administration',\n",
              " 'Smartsheet revenue up 17% to $286.9M in Q3 as enterprise giant preps to go private',\n",
              " 'First Mode explores strategic alternatives as Anglo American stops funding clean energy company',\n",
              " 'GeekWire Podcast: Amazon Nova, the future of AI, and more from the AWS re:Invent show floor',\n",
              " 'AI, Google Docs, and the messiness of innovation, with Microsoft Deputy CTO Sam Schillace',\n",
              " 'Podcast: Elon Musk’s problem with Microsoft; What the GeekWire 200 says about the startup scene',\n",
              " 'How Amazon is adapting to the TikTok generation, and what it says about the state of Prime',\n",
              " 'Now here’s a PC name for a snowplow in a tech town: Ctrl + Salt + Delete',\n",
              " 'Microsoft releases preview of voice-enabled ‘Copilot Vision’ AI browsing companion for Edge',\n",
              " 'Redmond, Wash., police partnering with Brinc on drone tech as part of first responder program',\n",
              " 'Uncommon Thinkers: TerraPower Isotopes’ Chris Dunckley spearheads pursuit of ultra-rare element',\n",
              " 'Tech Moves: F5 and Esper hire marketing leaders; Amperity adds chief revenue officer',\n",
              " 'Inflection, a Seattle startup that automates marketing for B2B companies, raises $7.6M',\n",
              " 'A taste of space on Earth: Astronaut training startup raises $4M to market way-out experiences',\n",
              " 'Jeff Bezos is ‘very optimistic’ about Trump — and that Blue Origin will be bigger than Amazon',\n",
              " 'Amazon chipping in $10M in tips for customers who thank their delivery drivers during the holidays',\n",
              " 'Amazon expands Bedrock with new AI model marketplace, a day after unveiling its own ‘Nova’',\n",
              " 'How Amazon’s new AI-powered Kindle Scribe summarized my handwritten review of the device',\n",
              " '‘Chamber of Connection’ launches in Seattle to help tech transplants and others adjust to their new city',\n",
              " 'Veeam Software, which recently relocated its HQ to the Seattle area, reaches $15B valuation',\n",
              " 'A list of logistics startups in Seattle, a ‘world-class’ hub for supply chain software talent',\n",
              " 'Used e-bike trade-in program at Rad Power Bikes stores aims to broaden electric mobility access',\n",
              " 'Continental sells Seattle-based fleet management software company Zonar Systems',\n",
              " '‘An easy button to get off Windows’: Amazon’s new AI moves Microsoft apps to Linux']"
            ]
          },
          "metadata": {},
          "execution_count": 5
        }
      ]
    },
    {
      "cell_type": "code",
      "source": [
        "html_content = driver.page_source\n",
        "\n",
        "with open('page_content.html', 'w', encoding='utf-8') as file:\n",
        "    file.write(html_content)"
      ],
      "metadata": {
        "id": "f-RQi88GszfO"
      },
      "execution_count": 6,
      "outputs": []
    },
    {
      "cell_type": "code",
      "source": [
        "from bs4 import BeautifulSoup\n",
        "\n",
        "# Retrieve the HTML content\n",
        "html_content = driver.page_source\n",
        "\n",
        "# Parse with BeautifulSoup\n",
        "soup = BeautifulSoup(html_content, 'html.parser')"
      ],
      "metadata": {
        "id": "ESdeyUHpm3Vj"
      },
      "execution_count": 7,
      "outputs": []
    },
    {
      "cell_type": "code",
      "source": [
        "[x.text for x in soup.select('.entry-title')]"
      ],
      "metadata": {
        "colab": {
          "base_uri": "https://localhost:8080/"
        },
        "id": "uN-wc7HZmgTe",
        "outputId": "6f817642-18f8-493f-be72-492bfffb2edf"
      },
      "execution_count": null,
      "outputs": [
        {
          "output_type": "execute_result",
          "data": {
            "text/plain": [
              "['Microsoft earnings preview: All eyes on AI — here are the numbers to watch for MSFT Q1-FY25',\n",
              " 'Amazon to shut down Kindle Vella serial book platform, saying it ‘hasn’t caught on as we’d hoped’',\n",
              " 'Explore the Bring Your Own Number (BYON) API',\n",
              " 'Inside the ‘Stranger Things’ house that a Seattle real estate startup bought and turned into an Airbnb',\n",
              " 'Jeff Bezos says ‘no quid pro quo of any kind’ in decision to end Washington Post endorsements',\n",
              " 'The Robot Trader: Avenix Fzco’s Majestic EA Hits the Forex Scene',\n",
              " 'Seattle startup Moondream, led by AWS vets, raises $4.5M for vision language model software',\n",
              " 'F5 reports $747M in quarterly revenue as stock surges 10%; company names new CFO',\n",
              " 'Tech Moves: Amazon grocery exec will join Marc Lore’s Wonder; AI2 Incubator adds venture partner',\n",
              " 'Electric boating insiders react to Pure Watercraft’s demise as court documents reveal sell-off details',\n",
              " 'Potato’s AI research assistant digs through publications for science experiment inspiration',\n",
              " 'Seattle startup Read AI raises $50M to fuel ‘copilot everywhere’ vision for enterprise software',\n",
              " 'Potato’s AI research assistant digs through publications for science experiment inspiration',\n",
              " 'Inside Seattle’s new Sweetgreen restaurant, where a large robot helps the humans make your salad',\n",
              " 'These wearable cameras use AI to detect and prevent medication errors in operating rooms',\n",
              " 'As Americans lose billions of dollars to digital scams, startups turn to AI for solutions',\n",
              " 'Week in Review: Most popular stories on GeekWire for the week of Oct. 20, 2024',\n",
              " 'Space shots: A tangled web of speculation surrounds Boeing, Blue Origin and Bezos',\n",
              " 'Initiative to repeal Washington’s capital gains tax pits education funding against business concerns',\n",
              " 'California governor visits Seattle for rally against ballot measure that aims to undo climate efforts',\n",
              " 'TSA introduces new facial recognition tech  at Seattle airport to speed security screening',\n",
              " 'Here’s what Tim Walz said at a Seattle fundraiser, according to tech CEO who co-hosted event',\n",
              " 'Podcast: Salesforce CEO Marc Benioff on AI, Microsoft, Seattle tech, and the future of humanity',\n",
              " 'Report: Gravity Payments founder Dan Price charged with rape in California, denies allegations',\n",
              " 'Podcast: Salesforce CEO Marc Benioff on AI, Microsoft, Seattle tech, and the future of humanity',\n",
              " 'Podcast: Uber + Expedia? Ballmer on 60 Minutes; 1980s Silicon Valley revisited; What’s next for AI',\n",
              " 'Podcast: Amazon puts AI in delivery vans; Ex-AMZN exec Dave Clark’s new startup; AI vs. cancer',\n",
              " 'Talking with AI: Microsoft Copilot guest-hosts the GeekWire Podcast',\n",
              " 'Amazon’s top grocery stores exec Tony Hoggett is leaving in big exit from senior leadership team',\n",
              " 'Jeff Bezos blamed for spiking Washington Post’s presidential endorsement of Kamala Harris',\n",
              " 'Is the world ready for autonomous AI? Salesforce CEO Marc Benioff makes the case for agents',\n",
              " 'It’s sad Kurt Cobain ‘never got to see GPS,’ actress Helen Mirren says of the late rock star',\n",
              " 'Startup radar: Early stage tech companies making moves in Seattle',\n",
              " 'Microsoft CEO Satya Nadella’s comp tops $79M as stock soars; cash bonus cut in half on security woes',\n",
              " 'Microsoft signs deal with ocean carbon removal project operating on Washington’s coast',\n",
              " 'Seattle’s Electric Era deploys EV chargers at Costco after opening big, new HQ – take a look inside',\n",
              " 'Virtual assistant for HR: Google’s AI-focused venture fund invests in Seattle startup Cascade AI',\n",
              " 'The top three AI challenges and trends on the mind of Microsoft Research’s president',\n",
              " 'Crypto startup Coinme alleges Coinstar misused trade secrets for competing product at kiosks',\n",
              " 'Blue Origin lofts new New Shepard capsule into space for test run before carrying crew',\n",
              " 'Inside Seattle’s new Sweetgreen restaurant, where a large robot helps the humans make your salad',\n",
              " 'Bill Gates reportedly gives $50M to support Kamala Harris’ presidential campaign',\n",
              " 'These wearable cameras use AI to detect and prevent medication errors in operating rooms']"
            ]
          },
          "metadata": {},
          "execution_count": 21
        }
      ]
    },
    {
      "cell_type": "code",
      "source": [
        "driver.quit()"
      ],
      "metadata": {
        "id": "SArYNY7JsQDa"
      },
      "execution_count": null,
      "outputs": []
    },
    {
      "cell_type": "code",
      "source": [],
      "metadata": {
        "id": "Eq8vFplJMfEB"
      },
      "execution_count": null,
      "outputs": []
    }
  ]
}